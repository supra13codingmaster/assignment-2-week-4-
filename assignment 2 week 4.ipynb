{
 "cells": [
  {
   "cell_type": "code",
   "execution_count": null,
   "id": "a7326f66-0eda-4f11-a405-691ec82688d6",
   "metadata": {},
   "outputs": [],
   "source": [
    "question-1"
   ]
  },
  {
   "cell_type": "code",
   "execution_count": null,
   "id": "b702b0a8-fa63-47e4-bf9f-2bc7a1622017",
   "metadata": {},
   "outputs": [],
   "source": [
    "abstraction in programming is about hiding unwanted details while showing important information."
   ]
  },
  {
   "cell_type": "code",
   "execution_count": null,
   "id": "835b3598-b37d-4a1f-beda-2dcb2fc39674",
   "metadata": {},
   "outputs": [],
   "source": [
    "example-our car is the best example of the abstraction as we start the car by simply putting the key and by pressing the start button \n",
    "but we donot know the implementation or the logic is completely hidden."
   ]
  },
  {
   "cell_type": "code",
   "execution_count": null,
   "id": "f7e0a634-18a5-4cdb-b538-3043a8b32624",
   "metadata": {},
   "outputs": [],
   "source": [
    "question-2"
   ]
  },
  {
   "cell_type": "code",
   "execution_count": null,
   "id": "8079c349-ca3b-480d-973f-f713346f2903",
   "metadata": {},
   "outputs": [],
   "source": [
    "\n",
    "\n",
    "Abstraction in Object Oriented Programming solves the issues at the design level.\tEncapsulation solves it implementation level.\n",
    "Abstraction in Programming is about hiding unwanted details while showing most essential information.\tEncapsulation means binding the code and data into a single unit.\n",
    "Data Abstraction in Java allows focussing on what the information object must contain\tEncapsulation means hiding the internal details or mechanics of how an object does something for security reasons.\n",
    "example of abstraction is our car and example of the encapsulation is school bag "
   ]
  },
  {
   "cell_type": "code",
   "execution_count": null,
   "id": "cbcaf138-8215-474b-a31f-9a091fddbe9f",
   "metadata": {},
   "outputs": [],
   "source": [
    "Question-3"
   ]
  },
  {
   "cell_type": "code",
   "execution_count": null,
   "id": "789816e0-412d-4e70-8b1a-ecf5b7653a87",
   "metadata": {},
   "outputs": [],
   "source": [
    " 'abc' module in Python library provides the infrastructure for defining custom abstract base classes.\n",
    "    This is done by @absttractmethod decorator.\n",
    "    we use this module to create functionality that subclass can implement"
   ]
  },
  {
   "cell_type": "code",
   "execution_count": null,
   "id": "97cb4f02-217f-4aa3-a09b-a197712aceac",
   "metadata": {},
   "outputs": [],
   "source": [
    "Question-4"
   ]
  },
  {
   "cell_type": "code",
   "execution_count": null,
   "id": "e16dbd47-48fc-48cf-86c1-62802c20b695",
   "metadata": {},
   "outputs": [],
   "source": [
    "we achieve data abstraction by creating abstract classes and inherit them ."
   ]
  },
  {
   "cell_type": "code",
   "execution_count": null,
   "id": "c8e06862-32bc-4e66-8d41-4c104bf7ee59",
   "metadata": {},
   "outputs": [],
   "source": [
    "Question-5"
   ]
  },
  {
   "cell_type": "code",
   "execution_count": null,
   "id": "66196198-2874-4e78-a647-563f159dc6de",
   "metadata": {},
   "outputs": [],
   "source": [
    "no we cannot create an instance of an abstract class ,if we create then it will shows a error but they can be subclassed"
   ]
  },
  {
   "cell_type": "code",
   "execution_count": null,
   "id": "3d5eede9-d760-4723-bfd7-d20fb97c6e87",
   "metadata": {},
   "outputs": [],
   "source": []
  },
  {
   "cell_type": "code",
   "execution_count": null,
   "id": "6123f8bc-9c07-4639-b7bc-e9c0279f442e",
   "metadata": {},
   "outputs": [],
   "source": []
  },
  {
   "cell_type": "code",
   "execution_count": null,
   "id": "34f5228e-5bf5-4b73-be76-9e5ab0d5034b",
   "metadata": {},
   "outputs": [],
   "source": []
  },
  {
   "cell_type": "code",
   "execution_count": null,
   "id": "c799ce12-8bf5-4f5b-84b4-2983bcd44625",
   "metadata": {},
   "outputs": [],
   "source": []
  },
  {
   "cell_type": "code",
   "execution_count": null,
   "id": "b7a2cdc8-27a6-4967-a08d-a43c301bc6ae",
   "metadata": {},
   "outputs": [],
   "source": []
  },
  {
   "cell_type": "code",
   "execution_count": null,
   "id": "ee4fb7d1-cbf1-478c-bf40-77543606fe94",
   "metadata": {},
   "outputs": [],
   "source": []
  }
 ],
 "metadata": {
  "kernelspec": {
   "display_name": "Python 3 (ipykernel)",
   "language": "python",
   "name": "python3"
  },
  "language_info": {
   "codemirror_mode": {
    "name": "ipython",
    "version": 3
   },
   "file_extension": ".py",
   "mimetype": "text/x-python",
   "name": "python",
   "nbconvert_exporter": "python",
   "pygments_lexer": "ipython3",
   "version": "3.10.8"
  }
 },
 "nbformat": 4,
 "nbformat_minor": 5
}
